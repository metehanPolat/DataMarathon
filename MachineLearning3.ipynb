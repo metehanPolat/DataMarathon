{
 "cells": [
  {
   "cell_type": "code",
   "execution_count": 1,
   "id": "513d0177",
   "metadata": {},
   "outputs": [],
   "source": [
    "import pandas as pd\n",
    "import matplotlib.pyplot as plt \n",
    "import numpy as np \n",
    "import seaborn as sns\n",
    "\n",
    "import warnings\n",
    "warnings.filterwarnings(\"ignore\")"
   ]
  },
  {
   "cell_type": "code",
   "execution_count": 2,
   "id": "50b623a5",
   "metadata": {},
   "outputs": [
    {
     "name": "stdout",
     "output_type": "stream",
     "text": [
      "Verinin Boyutu:  (10000, 785)\n"
     ]
    },
    {
     "data": {
      "text/html": [
       "<div>\n",
       "<style scoped>\n",
       "    .dataframe tbody tr th:only-of-type {\n",
       "        vertical-align: middle;\n",
       "    }\n",
       "\n",
       "    .dataframe tbody tr th {\n",
       "        vertical-align: top;\n",
       "    }\n",
       "\n",
       "    .dataframe thead th {\n",
       "        text-align: right;\n",
       "    }\n",
       "</style>\n",
       "<table border=\"1\" class=\"dataframe\">\n",
       "  <thead>\n",
       "    <tr style=\"text-align: right;\">\n",
       "      <th></th>\n",
       "      <th>label</th>\n",
       "      <th>1x1</th>\n",
       "      <th>1x2</th>\n",
       "      <th>1x3</th>\n",
       "      <th>1x4</th>\n",
       "      <th>1x5</th>\n",
       "      <th>1x6</th>\n",
       "      <th>1x7</th>\n",
       "      <th>1x8</th>\n",
       "      <th>1x9</th>\n",
       "      <th>...</th>\n",
       "      <th>28x19</th>\n",
       "      <th>28x20</th>\n",
       "      <th>28x21</th>\n",
       "      <th>28x22</th>\n",
       "      <th>28x23</th>\n",
       "      <th>28x24</th>\n",
       "      <th>28x25</th>\n",
       "      <th>28x26</th>\n",
       "      <th>28x27</th>\n",
       "      <th>28x28</th>\n",
       "    </tr>\n",
       "  </thead>\n",
       "  <tbody>\n",
       "    <tr>\n",
       "      <th>0</th>\n",
       "      <td>7</td>\n",
       "      <td>0</td>\n",
       "      <td>0</td>\n",
       "      <td>0</td>\n",
       "      <td>0</td>\n",
       "      <td>0</td>\n",
       "      <td>0</td>\n",
       "      <td>0</td>\n",
       "      <td>0</td>\n",
       "      <td>0</td>\n",
       "      <td>...</td>\n",
       "      <td>0</td>\n",
       "      <td>0</td>\n",
       "      <td>0</td>\n",
       "      <td>0</td>\n",
       "      <td>0</td>\n",
       "      <td>0</td>\n",
       "      <td>0</td>\n",
       "      <td>0</td>\n",
       "      <td>0</td>\n",
       "      <td>0</td>\n",
       "    </tr>\n",
       "    <tr>\n",
       "      <th>1</th>\n",
       "      <td>2</td>\n",
       "      <td>0</td>\n",
       "      <td>0</td>\n",
       "      <td>0</td>\n",
       "      <td>0</td>\n",
       "      <td>0</td>\n",
       "      <td>0</td>\n",
       "      <td>0</td>\n",
       "      <td>0</td>\n",
       "      <td>0</td>\n",
       "      <td>...</td>\n",
       "      <td>0</td>\n",
       "      <td>0</td>\n",
       "      <td>0</td>\n",
       "      <td>0</td>\n",
       "      <td>0</td>\n",
       "      <td>0</td>\n",
       "      <td>0</td>\n",
       "      <td>0</td>\n",
       "      <td>0</td>\n",
       "      <td>0</td>\n",
       "    </tr>\n",
       "    <tr>\n",
       "      <th>2</th>\n",
       "      <td>1</td>\n",
       "      <td>0</td>\n",
       "      <td>0</td>\n",
       "      <td>0</td>\n",
       "      <td>0</td>\n",
       "      <td>0</td>\n",
       "      <td>0</td>\n",
       "      <td>0</td>\n",
       "      <td>0</td>\n",
       "      <td>0</td>\n",
       "      <td>...</td>\n",
       "      <td>0</td>\n",
       "      <td>0</td>\n",
       "      <td>0</td>\n",
       "      <td>0</td>\n",
       "      <td>0</td>\n",
       "      <td>0</td>\n",
       "      <td>0</td>\n",
       "      <td>0</td>\n",
       "      <td>0</td>\n",
       "      <td>0</td>\n",
       "    </tr>\n",
       "    <tr>\n",
       "      <th>3</th>\n",
       "      <td>0</td>\n",
       "      <td>0</td>\n",
       "      <td>0</td>\n",
       "      <td>0</td>\n",
       "      <td>0</td>\n",
       "      <td>0</td>\n",
       "      <td>0</td>\n",
       "      <td>0</td>\n",
       "      <td>0</td>\n",
       "      <td>0</td>\n",
       "      <td>...</td>\n",
       "      <td>0</td>\n",
       "      <td>0</td>\n",
       "      <td>0</td>\n",
       "      <td>0</td>\n",
       "      <td>0</td>\n",
       "      <td>0</td>\n",
       "      <td>0</td>\n",
       "      <td>0</td>\n",
       "      <td>0</td>\n",
       "      <td>0</td>\n",
       "    </tr>\n",
       "    <tr>\n",
       "      <th>4</th>\n",
       "      <td>4</td>\n",
       "      <td>0</td>\n",
       "      <td>0</td>\n",
       "      <td>0</td>\n",
       "      <td>0</td>\n",
       "      <td>0</td>\n",
       "      <td>0</td>\n",
       "      <td>0</td>\n",
       "      <td>0</td>\n",
       "      <td>0</td>\n",
       "      <td>...</td>\n",
       "      <td>0</td>\n",
       "      <td>0</td>\n",
       "      <td>0</td>\n",
       "      <td>0</td>\n",
       "      <td>0</td>\n",
       "      <td>0</td>\n",
       "      <td>0</td>\n",
       "      <td>0</td>\n",
       "      <td>0</td>\n",
       "      <td>0</td>\n",
       "    </tr>\n",
       "  </tbody>\n",
       "</table>\n",
       "<p>5 rows × 785 columns</p>\n",
       "</div>"
      ],
      "text/plain": [
       "   label  1x1  1x2  1x3  1x4  1x5  1x6  1x7  1x8  1x9  ...  28x19  28x20  \\\n",
       "0      7    0    0    0    0    0    0    0    0    0  ...      0      0   \n",
       "1      2    0    0    0    0    0    0    0    0    0  ...      0      0   \n",
       "2      1    0    0    0    0    0    0    0    0    0  ...      0      0   \n",
       "3      0    0    0    0    0    0    0    0    0    0  ...      0      0   \n",
       "4      4    0    0    0    0    0    0    0    0    0  ...      0      0   \n",
       "\n",
       "   28x21  28x22  28x23  28x24  28x25  28x26  28x27  28x28  \n",
       "0      0      0      0      0      0      0      0      0  \n",
       "1      0      0      0      0      0      0      0      0  \n",
       "2      0      0      0      0      0      0      0      0  \n",
       "3      0      0      0      0      0      0      0      0  \n",
       "4      0      0      0      0      0      0      0      0  \n",
       "\n",
       "[5 rows x 785 columns]"
      ]
     },
     "execution_count": 2,
     "metadata": {},
     "output_type": "execute_result"
    }
   ],
   "source": [
    "veri = pd.read_csv(\"mnist_test.csv\")\n",
    "print(\"Verinin Boyutu: \",veri.shape)\n",
    "veri.head()"
   ]
  },
  {
   "cell_type": "code",
   "execution_count": 3,
   "id": "c5dd3da0",
   "metadata": {},
   "outputs": [
    {
     "name": "stdout",
     "output_type": "stream",
     "text": [
      "Xveri : (10000, 784)\n",
      "Yveri : (10000,)\n"
     ]
    }
   ],
   "source": [
    "Y_veri = veri[\"label\"]\n",
    "X_veri = veri.drop([\"label\"],axis=1)\n",
    "print(\"Xveri :\", X_veri.shape)\n",
    "print(\"Yveri :\", Y_veri.shape)"
   ]
  },
  {
   "cell_type": "code",
   "execution_count": 4,
   "id": "d4a847ad",
   "metadata": {},
   "outputs": [
    {
     "data": {
      "image/png": "[encoded data removed]",
      "text/plain": [
       "<Figure size 1080x504 with 1 Axes>"
      ]
     },
     "metadata": {
      "needs_background": "light"
     },
     "output_type": "display_data"
    },
    {
     "name": "stdout",
     "output_type": "stream",
     "text": [
      "Sınıflar ve Örnek Sayıları 1    1135\n",
      "2    1032\n",
      "7    1028\n",
      "3    1010\n",
      "9    1009\n",
      "4     982\n",
      "0     980\n",
      "8     974\n",
      "6     958\n",
      "5     892\n",
      "Name: label, dtype: int64\n"
     ]
    }
   ],
   "source": [
    "plt.figure(figsize=(15,7))\n",
    "g = sns.countplot(Y_veri,palette=\"icefire\")\n",
    "plt.title(\"Sınıflar\")\n",
    "plt.show()\n",
    "print(\"Sınıflar ve Örnek Sayıları\",Y_veri.value_counts())"
   ]
  },
  {
   "cell_type": "code",
   "execution_count": 5,
   "id": "8252b282",
   "metadata": {},
   "outputs": [
    {
     "data": {
      "text/plain": [
       "28"
      ]
     },
     "execution_count": 5,
     "metadata": {},
     "output_type": "execute_result"
    }
   ],
   "source": [
    "resim_boyutu = int(np.sqrt(X_veri.shape[1]))\n",
    "resim_boyutu"
   ]
  },
  {
   "cell_type": "code",
   "execution_count": 6,
   "id": "7e4d8816",
   "metadata": {},
   "outputs": [
    {
     "data": {
      "image/png": "[encoded data removed]",
      "text/plain": [
       "<Figure size 432x288 with 1 Axes>"
      ]
     },
     "metadata": {
      "needs_background": "light"
     },
     "output_type": "display_data"
    }
   ],
   "source": [
    "resim1 = X_veri.iloc[2000].values\n",
    "resim1 = resim1.reshape(resim_boyutu,resim_boyutu)\n",
    "plt.imshow(resim1,cmap=\"gray\")\n",
    "plt.axis('off')\n",
    "plt.show()"
   ]
  },
  {
   "cell_type": "code",
   "execution_count": 7,
   "id": "00fc6aae",
   "metadata": {},
   "outputs": [
    {
     "data": {
      "image/png": "[encoded data removed]",
      "text/plain": [
       "<Figure size 432x288 with 1 Axes>"
      ]
     },
     "metadata": {
      "needs_background": "light"
     },
     "output_type": "display_data"
    }
   ],
   "source": [
    "resim2 = X_veri.iloc[9000].values\n",
    "resim2 = resim2.reshape(resim_boyutu,resim_boyutu)\n",
    "plt.imshow(resim2,cmap=\"gray\")\n",
    "plt.axis('off')\n",
    "plt.show()"
   ]
  },
  {
   "cell_type": "code",
   "execution_count": 8,
   "id": "a2b857ea",
   "metadata": {},
   "outputs": [],
   "source": [
    "#                          Normalize Yeniden Şekillendirme ve Etiket Kodlama\n",
    "\n",
    "# Keras 3 boyutlu veri istediği için biz bu veriyi 28*28*1 olarak vericeğiz. 3. boyut renk için normalde bizde renk yok ama\n",
    "\n",
    "x_veri = X_veri / 255.0\n",
    "# 255 bölmemizin nedeni bütün değerler 255 ton değeri vardır. bundan sonra değerler 0-1 arasında olur."
   ]
  },
  {
   "cell_type": "code",
   "execution_count": 9,
   "id": "88924509",
   "metadata": {},
   "outputs": [
    {
     "name": "stdout",
     "output_type": "stream",
     "text": [
      "X eğitim boyutu:  (10000, 28, 28, 1)\n"
     ]
    }
   ],
   "source": [
    "X_veri = X_veri.values.reshape(-1,28,28,1)\n",
    "print(\"X eğitim boyutu: \", X_veri.shape)"
   ]
  },
  {
   "cell_type": "code",
   "execution_count": 10,
   "id": "ad3cf69e",
   "metadata": {},
   "outputs": [],
   "source": [
    "# etiket kodlama\n",
    "from keras.utils.np_utils import to_categorical # vektöre çevirmek için\n",
    "Y_veri = to_categorical(Y_veri, num_classes=10)\n",
    "# 0-9 arasındaki rakamlar olduğuu içintoplamda 10 classter olucak. Buna göre etiket değerlerini çevirdik."
   ]
  },
  {
   "cell_type": "code",
   "execution_count": 11,
   "id": "f820c3de",
   "metadata": {},
   "outputs": [
    {
     "name": "stdout",
     "output_type": "stream",
     "text": [
      "X egitim:  (9000, 28, 28, 1)\n",
      "X test:  (1000, 28, 28, 1)\n",
      "y egitim:  (9000, 10)\n",
      "y test:  (1000, 10)\n"
     ]
    }
   ],
   "source": [
    "# Eğitim Test Bölmesi\n",
    "\n",
    "from sklearn.model_selection import train_test_split\n",
    "X_egitim, X_test, Y_egitim, Y_test = train_test_split(X_veri,Y_veri,test_size=0.1,random_state=2)\n",
    "\n",
    "print(\"X egitim: \",X_egitim.shape)\n",
    "print(\"X test: \",X_test.shape)\n",
    "print(\"y egitim: \",Y_egitim.shape)\n",
    "print(\"y test: \",Y_test.shape)"
   ]
  },
  {
   "cell_type": "code",
   "execution_count": 14,
   "id": "0086f15c",
   "metadata": {},
   "outputs": [],
   "source": [
    "# özellik algılayıcı kenarları veya dış bükey şeiklleri algılamaya yöneliktir.\n",
    "# evrişim katmanında bir resmin sabit dururken diğer resmi onun farklı yerleriyle kaşılaştırır (gezinirerek arıyor gibi)\n",
    "# ReLU eksi olan değerleri pozitif yapıyor (evrişim katmanındaki işlemlerde kullanılıyor sanırım)\n",
    "# evrişim katmanını sürekli uyguladığımızda resmin boyutu küçülüyor. Bilgi kaybetmemek için piksel eklemesi yapıyoruz.\n",
    "\n",
    "import pandas as pd\n",
    "import numpy as np\n",
    "import matplotlib.pyplot as plt\n",
    "import matplotlib.image as mpimg\n",
    "import seaborn as sns\n",
    "%matplotlib inline\n",
    "\n",
    "np.random.seed(2)\n",
    "\n",
    "\"\"\"\n",
    "1=> confusion matrix hesaplamak için. Hangilerini iyi ayır ettik ya da ayırt edemedik görmek için\n",
    "2=> iteratif işlemler için.\n",
    "3=> kategorikleri istenilene (0001000 gibi) çevirmek için kullanıcağız\n",
    "4=> modellerden Sequential modeli seçtik\n",
    "5=> evriştirme, ortaklama,seyreltme gibi işlemler için gerekli olan şeyler\n",
    "6=> optimize etmek için kullanıcaklarım\n",
    "7=> görüntüyü ön işlemek için. Resimlerin çoklanması için kullanılabilir mesela\n",
    "8=> ?\n",
    "\"\"\"\n",
    "from sklearn.model_selection import train_test_split\n",
    "from sklearn.metrics import confusion_matrix\n",
    "import itertools\n",
    "from keras.utils.np_utils import to_categorical # convert to one-hot-encoding\n",
    "from keras.models import Sequential\n",
    "from keras.layers import Dense, Dropout, Flatten, Conv2D, MaxPool2D\n",
    "from tensorflow.keras.optimizers import RMSprop, Adam\n",
    "from keras.preprocessing.image import ImageDataGenerator\n",
    "from keras.callbacks import ReduceLROnPlateau"
   ]
  },
  {
   "cell_type": "code",
   "execution_count": 15,
   "id": "11c090eb",
   "metadata": {},
   "outputs": [],
   "source": [
    "model = Sequential()\n",
    "# sırasıyla: evrişim, ortaklama, seyreltme kodları\n",
    "model.add(Conv2D(filters = 8, kernel_size = (5,5),padding = 'Same', \n",
    "                 activation ='relu', input_shape = (28,28,1)))\n",
    "model.add(MaxPool2D(pool_size=(2,2)))\n",
    "model.add(Dropout(0.25))\n",
    "#\n",
    "model.add(Conv2D(filters = 16, kernel_size = (3,3),padding = 'Same', \n",
    "                 activation ='relu'))\n",
    "model.add(MaxPool2D(pool_size=(2,2), strides=(2,2)))\n",
    "model.add(Dropout(0.25))\n",
    "# fully connected\n",
    "model.add(Flatten())\n",
    "model.add(Dense(256, activation = \"relu\"))\n",
    "model.add(Dropout(0.5))\n",
    "model.add(Dense(10, activation = \"softmax\"))"
   ]
  },
  {
   "cell_type": "code",
   "execution_count": 17,
   "id": "9cde4276",
   "metadata": {},
   "outputs": [],
   "source": [
    "# Adam optimizasyon yöntemini kullanacağız\n",
    "optimizer = Adam(lr=0.001, beta_1=0.9, beta_2=0.999)"
   ]
  },
  {
   "cell_type": "code",
   "execution_count": 20,
   "id": "abd8be00",
   "metadata": {},
   "outputs": [],
   "source": [
    "# modelin derlenmesi \n",
    "# kategorik çapcar entropi maliyet yöntemini kullanacağız\n",
    "\n",
    "model.compile(optimizer = optimizer , loss = \"categorical_crossentropy\", metrics=[\"accuracy\"])"
   ]
  },
  {
   "cell_type": "code",
   "execution_count": 21,
   "id": "e349fb0e",
   "metadata": {},
   "outputs": [],
   "source": [
    "\"\"\"\n",
    "10 örnek içeren bir veri kümesi olduğunu varsayalım\n",
    "batch_size = 2 olsun\n",
    "epoch = 3 olsun\n",
    "Her bir epoch için 5 adet batch'e sahibiz (10/2)\n",
    "10 adet veri, her epoch da 2'şerli olarak 5 kere döngüsünü tamamlar\n",
    "\"\"\"\n",
    "\n",
    "epochs = 10  \n",
    "batch_size = 250"
   ]
  },
  {
   "cell_type": "code",
   "execution_count": 22,
   "id": "6746f767",
   "metadata": {},
   "outputs": [],
   "source": [
    "# Veri arttırma (data augmentation)\n",
    "# ezberleme sorununu gidermek için yapılır. Bir resmi çevirerek büyültüp küçülterek veriyi çoğaltır.\n",
    "\n",
    "datagen = ImageDataGenerator(\n",
    "        featurewise_center=False,  # girdi ortalamasını veri üzerinden 0 olarak ayarlayın\n",
    "        samplewise_center=False,  # her bir örnek ortalamasını 0 olarak ayarlayın \n",
    "        featurewise_std_normalization=False,  # girdileri veri kümesinin standartlarına böl\n",
    "        samplewise_std_normalization=False,  # her girdiyi std'ye böl\n",
    "        zca_whitening=False,  # dimesion reduction\n",
    "        rotation_range=5,  # boyut küçültme\n",
    "        zoom_range = 0.1, # %10 görüntüyü yakınlaştırır\n",
    "        width_shift_range=0.1,  # görüntüleri yatay olarak rastgele kaydırır %10\n",
    "        height_shift_range=0.1,  # görüntüleri dikey olarak rastgele kaydırır %10\n",
    "        horizontal_flip=False,  # görüntüleri yatay olarak rastgele çevirir\n",
    "        vertical_flip=False)  # görüntüleri dikey olarak rastgele çevirir\n",
    "\n",
    "datagen.fit(X_egitim)"
   ]
  },
  {
   "cell_type": "code",
   "execution_count": 23,
   "id": "cf371e52",
   "metadata": {},
   "outputs": [
    {
     "name": "stdout",
     "output_type": "stream",
     "text": [
      "Epoch 1/10\n",
      "36/36 [==============================] - 7s 51ms/step - loss: 11.6563 - accuracy: 0.2316 - val_loss: 2.0048 - val_accuracy: 0.3720\n",
      "Epoch 2/10\n",
      "36/36 [==============================] - 2s 43ms/step - loss: 2.0855 - accuracy: 0.2781 - val_loss: 1.6527 - val_accuracy: 0.5860\n",
      "Epoch 3/10\n",
      "36/36 [==============================] - 2s 44ms/step - loss: 1.9009 - accuracy: 0.3523 - val_loss: 1.2588 - val_accuracy: 0.6880\n",
      "Epoch 4/10\n",
      "36/36 [==============================] - 2s 44ms/step - loss: 1.6914 - accuracy: 0.4329 - val_loss: 0.9635 - val_accuracy: 0.7580\n",
      "Epoch 5/10\n",
      "36/36 [==============================] - 2s 43ms/step - loss: 1.5495 - accuracy: 0.4761 - val_loss: 0.7385 - val_accuracy: 0.7970\n",
      "Epoch 6/10\n",
      "36/36 [==============================] - 2s 46ms/step - loss: 1.4162 - accuracy: 0.5233 - val_loss: 0.6286 - val_accuracy: 0.8170\n",
      "Epoch 7/10\n",
      "36/36 [==============================] - 2s 48ms/step - loss: 1.2935 - accuracy: 0.5596 - val_loss: 0.5606 - val_accuracy: 0.8400\n",
      "Epoch 8/10\n",
      "36/36 [==============================] - 2s 44ms/step - loss: 1.2113 - accuracy: 0.5933 - val_loss: 0.4516 - val_accuracy: 0.8730\n",
      "Epoch 9/10\n",
      "36/36 [==============================] - 2s 44ms/step - loss: 1.1621 - accuracy: 0.5997 - val_loss: 0.4567 - val_accuracy: 0.8760\n",
      "Epoch 10/10\n",
      "36/36 [==============================] - 2s 46ms/step - loss: 1.0719 - accuracy: 0.6283 - val_loss: 0.3860 - val_accuracy: 0.9010\n"
     ]
    }
   ],
   "source": [
    "# Modelin Eğitilmesi\n",
    "\n",
    "history = model.fit_generator(datagen.flow(X_egitim,Y_egitim, \n",
    "                                           batch_size=batch_size),\n",
    "                              epochs = epochs, \n",
    "                              validation_data = (X_test,Y_test), steps_per_epoch=X_egitim.shape[0] // batch_size)"
   ]
  },
  {
   "cell_type": "code",
   "execution_count": 25,
   "id": "2a4dad9f",
   "metadata": {},
   "outputs": [
    {
     "data": {
      "image/png": "[encoded data removed]",
      "text/plain": [
       "<Figure size 432x288 with 1 Axes>"
      ]
     },
     "metadata": {
      "needs_background": "light"
     },
     "output_type": "display_data"
    }
   ],
   "source": [
    "# modelin değerlendirilmesi\n",
    "\n",
    "plt.plot(history.history['val_loss'], color='b', label=\"validation loss\")\n",
    "plt.title(\"Test Loss\")\n",
    "plt.xlabel(\"Number of Epochs\")\n",
    "plt.ylabel(\"Loss\")\n",
    "plt.legend()\n",
    "plt.show()"
   ]
  },
  {
   "cell_type": "code",
   "execution_count": 26,
   "id": "bba76077",
   "metadata": {},
   "outputs": [
    {
     "data": {
      "image/png": "[encoded data removed]",
      "text/plain": [
       "<Figure size 576x576 with 2 Axes>"
      ]
     },
     "metadata": {
      "needs_background": "light"
     },
     "output_type": "display_data"
    }
   ],
   "source": [
    "# confusion matrix\n",
    "import seaborn as sns\n",
    "\n",
    "# veri test setinden tahmin et\n",
    "Y_pred = model.predict(X_test)\n",
    "\n",
    "# tahmin edilen veriyi çevir\n",
    "Y_pred_classes = np.argmax(Y_pred,axis = 1) \n",
    "\n",
    "# test verisini çevir\n",
    "Y_true = np.argmax(Y_test,axis = 1) \n",
    "\n",
    "# karışıklık matrixini hesapla\n",
    "confusion_mtx = confusion_matrix(Y_true, Y_pred_classes)\n",
    "\n",
    "# karışıklık matrixini çizdir\n",
    "f,ax = plt.subplots(figsize=(8, 8))\n",
    "sns.heatmap(confusion_mtx, annot=True, linewidths=0.01,cmap=\"Greens\",linecolor=\"gray\", fmt= '.1f',ax=ax)\n",
    "plt.xlabel(\"Predicted Label\")\n",
    "plt.ylabel(\"True Label\")\n",
    "plt.title(\"Confusion Matrix\")\n",
    "plt.show()"
   ]
  },
  {
   "cell_type": "code",
   "execution_count": 1,
   "id": "5a6ec811",
   "metadata": {},
   "outputs": [],
   "source": [
    "#                                          Tekrarlayan Sinir Ağları\n",
    "# tekrarlayan sinir ağları aldıkları girdiyle ilgili önemli şeyleri hatırlayabilir ve bu onların bir sonraki adımın ne olacağını\n",
    "# tahmin etmede çok hassas olmalarını sağlar\n",
    "# Tekrarlayan sinir ağlarının asıl amacı ardışık bilgileri kullanmaktır.\n",
    "\n",
    "import pandas as pd\n",
    "import matplotlib.pyplot as plt \n",
    "import numpy as np \n",
    "import seaborn as sns\n",
    "\n",
    "import warnings\n",
    "warnings.filterwarnings(\"ignore\")"
   ]
  },
  {
   "cell_type": "code",
   "execution_count": null,
   "id": "53cb3fd2",
   "metadata": {},
   "outputs": [],
   "source": [
    "data = pd.read_csv(\"uluslar_arası_havayolu_yolcıları.csv\")\n",
    "data.head()"
   ]
  },
  {
   "cell_type": "code",
   "execution_count": null,
   "id": "2f314275",
   "metadata": {},
   "outputs": [],
   "source": [
    "# veri görselleştirme\n",
    "data = dataset.iloc[:,1].values\n",
    "plt.plot(data)\n",
    "plt.xlabel(\"Time\")\n",
    "plt.ylabel(\"Number of Passengers\")\n",
    "plt.title(\"International Airline Passengers\")\n",
    "plt.show()"
   ]
  },
  {
   "cell_type": "code",
   "execution_count": null,
   "id": "7997313d",
   "metadata": {},
   "outputs": [],
   "source": [
    "# verinin şeklini ve tipini değiştir\n",
    "data =data.reshape(-1,1)\n",
    "data.astype(\"float32\")\n",
    "data.shape"
   ]
  },
  {
   "cell_type": "code",
   "execution_count": null,
   "id": "a6f07a40",
   "metadata": {},
   "outputs": [],
   "source": [
    "# normalize edelim\n",
    "from sklearn.preprocessing import MinMaxScaler \n",
    "scaler = MinMaxScaler(feature_range=(0,1))\n",
    "data_scaled = scaler.fit_transform(data)\n",
    "data_scaled[:4]"
   ]
  },
  {
   "cell_type": "code",
   "execution_count": null,
   "id": "bd2e9841",
   "metadata": {},
   "outputs": [],
   "source": [
    "# veriyi eğitim test olarak bölelim\n",
    "# verinin %60'lık ilk kısmı eğitim geri kalanı da test olsun\n",
    "# zaman serisi olduğu için geçmişten geliceğe gidilicektir try_test_split ile karıştırarak almamaız lazım\n",
    "train_data_size = int(len(data_scaled)*0.60)\n",
    "test_data_size = len(data_scaled) - train_data_size\n",
    "train = data_scaled[0:train_data_size,:]\n",
    "test = data_scaled[train_data_size:len(data_scaled),:]\n",
    "print(\"Train data size is {}\".format(len(train)))\n",
    "print(\"Test data size is {}\".format(len(test)))"
   ]
  },
  {
   "cell_type": "code",
   "execution_count": null,
   "id": "64497c52",
   "metadata": {},
   "outputs": [],
   "source": [
    "# Eğitim verisini 10'ar lı olarak şekillendirelim\n",
    "x_train = []\n",
    "y_train = []\n",
    "time_steps=10\n",
    "for i in range(len(train)-time_steps-1):\n",
    "    a = train[i:(i+time_steps),0]\n",
    "    x_train.append(a)\n",
    "    y_train.append(train[i + time_steps,0])\n",
    "trainX = np.array(x_train)\n",
    "trainY = np.array(y_train)"
   ]
  },
  {
   "cell_type": "code",
   "execution_count": null,
   "id": "5ad57cfb",
   "metadata": {},
   "outputs": [],
   "source": [
    "# test verisini 10'ar lı olarak şekillendirelim\n",
    "x_test = []\n",
    "y_test = []\n",
    "for i in range(len(test)-time_steps-1):\n",
    "    a = test[i:(i+time_steps),0]\n",
    "    x_test.append(a)\n",
    "    y_test.append(test[i + time_steps,0])\n",
    "testX = np.array(x_test)\n",
    "testY = np.array(y_test)"
   ]
  },
  {
   "cell_type": "code",
   "execution_count": null,
   "id": "f29c4da2",
   "metadata": {},
   "outputs": [],
   "source": [
    "# verinin şeklini kerasa uygun hale getirelim\n",
    "# ((76, 10, 1) ilk satır) böylelikle kerasın istediği şekilde boyutlandırdık\n",
    "\"\"\"\n",
    "    'np.reshape'  boyutlandırmaya yarıyor.\n",
    "\"\"\"\n",
    "trainX = np.reshape(trainX, (trainX.shape[0], trainX.shape[1],1))\n",
    "testX = np.reshape(testX, (testX.shape[0],testX.shape[1],1))\n",
    "print(\"Shape of trainX is {}\".format(trainX.shape))\n",
    "print(\"Shape of testX is {}\".format(testX.shape))"
   ]
  },
  {
   "cell_type": "code",
   "execution_count": null,
   "id": "b4a9dee6",
   "metadata": {},
   "outputs": [],
   "source": [
    "# Create RNN Model\n",
    "\n",
    "from keras.layers import Dense, SimpleRNN, Dropout\n",
    "from keras.metrics import mean_squared_error\n",
    "from keras.models import Sequential\n",
    "\n",
    "# tekrarlanan sinir ağlarının temelini oluşturur.\n",
    "model = Sequential()\n",
    "\n",
    "# ilk katman ve drop out katmanı\n",
    "# input_shape yi 1 katmanda vermek yeterli.\n",
    "model.add(SimpleRNN(units=120,\n",
    "                    activation='relu',\n",
    "                    return_sequences=True, \n",
    "                    input_shape=(trainX.shape[1],1)))\n",
    "model.add(Dropout(0.20))\n",
    "\n",
    "# ikinci katman ve drop out katmanı\n",
    "model.add(SimpleRNN(units = 80, \n",
    "                    activation='relu',\n",
    "                    return_sequences=True))\n",
    "model.add(Dropout(0.20))\n",
    "\n",
    "# üçüncü katman ve drop out katmanı\n",
    "model.add(SimpleRNN(units = 40, \n",
    "                    activation='relu', \n",
    "                    return_sequences= True))\n",
    "model.add(Dropout(0.20))\n",
    "\n",
    "# dördüncü katman ve drop out katmanı\n",
    "model.add(SimpleRNN(units = 20,\n",
    "                        activation='relu',\n",
    "                        return_sequences=True))\n",
    "model.add(Dropout(0.20))\n",
    "\n",
    "# beşinci katman ve drop out katmanı\n",
    "model.add(SimpleRNN(units = 10))\n",
    "model.add(Dropout(0.20))\n",
    "\n",
    "# tek bir çıktı olucak\n",
    "model.add(Dense(units=1))\n",
    "\n",
    "# derleyelim\n",
    "model.compile(optimizer = 'adam', loss = 'mean_squared_error')\n",
    "\n",
    "# eğitimi başlatalım\n",
    "model.fit(trainX, trainY, epochs = 250, batch_size=32,verbose=0)"
   ]
  },
  {
   "cell_type": "code",
   "execution_count": null,
   "id": "6a7a8393",
   "metadata": {},
   "outputs": [],
   "source": [
    "# tahmin modelinin değerlendirilmesi\n",
    "# modelin değerlendirilmesinde kök-ortalama-kare hatası yöntemini  kullanacağız.\n",
    "\n",
    "import math\n",
    "from sklearn.metrics import mean_squared_error\n",
    "\n",
    "trainPrediction = model.predict(trainX)\n",
    "testPrediction = model.predict(testX)\n",
    "\n",
    "# normalize etmiştik normale çevirelim\n",
    "trainPrediction = scaler.inverse_transform(trainPrediction)\n",
    "trainY = scaler.inverse_transform([trainY])\n",
    "testPrediction = scaler.inverse_transform(testPrediction)\n",
    "testY = scaler.inverse_transform([testY])\n",
    "\n",
    "# kök ortalama kare hatası\n",
    "trainScore = math.sqrt(mean_squared_error(trainY[0], trainPrediction[:,0]))\n",
    "testScore = math.sqrt(mean_squared_error(testY[0], testPrediction[:,0]))\n",
    "print(\"Train Score is %.2lf RMSE\"%(trainScore))\n",
    "print(\"Test Score is %.2lf RMSE\"%(testScore))"
   ]
  },
  {
   "cell_type": "code",
   "execution_count": null,
   "id": "97456319",
   "metadata": {},
   "outputs": [],
   "source": [
    "# erğitim verisini kaydır\n",
    "# \"np.empty_like\" belirli bir diziyle aynı şekle ve türe sahip yeni bir dizi döndürür\n",
    "# burda eğtim verisinin tahnimlerini başta test verisinin tahminlerini ise sonda ekledik\n",
    "trainPredictPlot = np.empty_like(dataset)\n",
    "trainPredictPlot[:, :] = np.nan\n",
    "trainPredictPlot[time_steps:len(trainPrediction)+time_steps, :] = trainPrediction\n",
    "\n",
    "#test verisini kaydır\n",
    "testPredictPlot = np.empty_like(dataset)\n",
    "testPredictPlot[:, :] = np.nan\n",
    "testPredictPlot[len(trainPrediction)+(time_steps*2)+1:len(dataset)-1, :] = testPrediction\n",
    "\n",
    "#görselleştir\n",
    "plt.plot(scaler.inverse_transform(data_scaled),label = 'True Values', color='blue')\n",
    "plt.plot(trainPredictPlot,label='Train Prediction', color='red')\n",
    "plt.plot(testPredictPlot,label = 'Test Prediction', color='green')\n",
    "plt.xlabel(\"Time\")\n",
    "plt.ylabel(\"Number of Passengers\")\n",
    "plt.title(\"International Airline Passengers\")\n",
    "plt.legend()\n",
    "plt.show()"
   ]
  },
  {
   "cell_type": "code",
   "execution_count": 6,
   "id": "cad75438",
   "metadata": {},
   "outputs": [],
   "source": [
    "#                                 Tekrarlayan sinir ağları\n",
    "import gym\n",
    "import numpy as np\n",
    "import random\n",
    "import matplotlib.pyplot as plt"
   ]
  },
  {
   "cell_type": "code",
   "execution_count": 7,
   "id": "6d362033",
   "metadata": {},
   "outputs": [
    {
     "data": {
      "text/plain": [
       "<TimeLimit<FrozenLakeEnv<FrozenLake-v1>>>"
      ]
     },
     "execution_count": 7,
     "metadata": {},
     "output_type": "execute_result"
    }
   ],
   "source": [
    "# ortamı oluştur (bu kod kendi otomatik bir tane oluşturur istersen kendinde ayarlayabilirsin)\n",
    "env = gym.make('FrozenLake-v1')\n",
    "env"
   ]
  },
  {
   "cell_type": "code",
   "execution_count": 8,
   "id": "8a1e7b35",
   "metadata": {},
   "outputs": [
    {
     "data": {
      "text/plain": [
       "array([[0., 0., 0., 0.],\n",
       "       [0., 0., 0., 0.],\n",
       "       [0., 0., 0., 0.],\n",
       "       [0., 0., 0., 0.],\n",
       "       [0., 0., 0., 0.],\n",
       "       [0., 0., 0., 0.],\n",
       "       [0., 0., 0., 0.],\n",
       "       [0., 0., 0., 0.],\n",
       "       [0., 0., 0., 0.],\n",
       "       [0., 0., 0., 0.],\n",
       "       [0., 0., 0., 0.],\n",
       "       [0., 0., 0., 0.],\n",
       "       [0., 0., 0., 0.],\n",
       "       [0., 0., 0., 0.],\n",
       "       [0., 0., 0., 0.],\n",
       "       [0., 0., 0., 0.]])"
      ]
     },
     "execution_count": 8,
     "metadata": {},
     "output_type": "execute_result"
    }
   ],
   "source": [
    "# Q table oluştur\n",
    "q_table = np.zeros([env.observation_space.n,env.action_space.n])\n",
    "q_table"
   ]
  },
  {
   "cell_type": "code",
   "execution_count": 10,
   "id": "16de268b",
   "metadata": {},
   "outputs": [],
   "source": [
    "# Hyperparametreler\n",
    "gamma = 0.95 # indirim faktörü\n",
    "alpha = 0.80 #zamansal farkın ne kadar ağırlıklı olduğunu gösterir (formülde en son kısımda zamansal farkla çarpılıyor)\n",
    "epsilon = 0.10 # risk alma faktörü (rastgele gidiyim deme lüksü)\n",
    "\n",
    "# ödülleri görselleştirmek için liste oluştur\n",
    "reward_list = []"
   ]
  },
  {
   "cell_type": "code",
   "execution_count": 11,
   "id": "b7da4927",
   "metadata": {},
   "outputs": [
    {
     "name": "stdout",
     "output_type": "stream",
     "text": [
      "Eposide: 5000\n",
      "Eposide: 10000\n",
      "Eposide: 15000\n",
      "Eposide: 20000\n",
      "Eposide: 25000\n",
      "Eposide: 30000\n",
      "Eposide: 35000\n",
      "Eposide: 40000\n",
      "Eposide: 45000\n",
      "Eposide: 50000\n",
      "Eposide: 55000\n",
      "Eposide: 60000\n",
      "Eposide: 65000\n",
      "Eposide: 70000\n",
      "Eposide: 75000\n",
      "Eposide: 80000\n",
      "Eposide: 85000\n",
      "Eposide: 90000\n",
      "Eposide: 95000\n"
     ]
    }
   ],
   "source": [
    "# öğrenmeye başlama\n",
    "eposide_number = 100000 # 100000 bölüm olsun\n",
    "for i in range(1,eposide_number):\n",
    "    state = env.reset() # her bölümün başında ortamı resetler\n",
    "    \n",
    "    reward_cound = 0\n",
    "    \n",
    "    while True:\n",
    "        # %10 keşif, %90 sömürü oranı\n",
    "        # 0-1 arasında düzgü dağılıma uygun bir sayı üretir epsilondan küçükse rastgele hareket yapıcak ama geçerli bi hareket yapıcak bi anda başka bir yere ışınlanmıyacak\n",
    "        # değilse en çıkarcı eylemi yerine getirir\n",
    "        if random.uniform(0,1) < epsilon:\n",
    "            action = env.action_space.sample()\n",
    "        else:\n",
    "            action = np.argmax(q_table[state])\n",
    "        \n",
    "        # ortam içerisinide bir eylem yap, karşılığında bir sonraki durumu ve\n",
    "        # if de verdiğimiz eylemleri gerçekleştirir. bir sonraki stateyi verdi, kazandığın ödülü verdi ve bu işlem yapıldı diye done döndürdü.\n",
    "        next_state, reward, done, _ = env.step(action)\n",
    "        \n",
    "        # Q öğrenme fonksiyonu\n",
    "        old_value = q_table[state,action] # old_value (alamazsan BTK veri maratonu 10 gün  4:43:40 dk da anlatıyor)\n",
    "        next_max = np.max(q_table[next_state]) # next_max\n",
    "        \n",
    "        next_value = (1-alpha)*old_value + alpha*(reward + gamma*next_max)\n",
    "        \n",
    "        # Q tablosunu güncelle\n",
    "        q_table[state,action] = next_value\n",
    "        \n",
    "        # durum güncelle\n",
    "        state = next_state\n",
    "        \n",
    "        # toplam ödülü hesapla\n",
    "        reward_cound += reward\n",
    "        \n",
    "        # eğer bölüm bittiyse kır ve yeni bölüme başla\n",
    "        if done:\n",
    "            break\n",
    "    \n",
    "    if i%5000 == 0:\n",
    "        print(\"Eposide: {}\".format(i))\n",
    "    if i%1000 == 0:\n",
    "        reward_list.append(reward_cound)"
   ]
  },
  {
   "cell_type": "code",
   "execution_count": 12,
   "id": "e3591886",
   "metadata": {},
   "outputs": [
    {
     "data": {
      "text/plain": [
       "Text(0, 0.5, 'Ödül')"
      ]
     },
     "execution_count": 12,
     "metadata": {},
     "output_type": "execute_result"
    },
    {
     "data": {
      "image/png": "[encoded data removed]",
      "text/plain": [
       "<Figure size 432x288 with 1 Axes>"
      ]
     },
     "metadata": {
      "needs_background": "light"
     },
     "output_type": "display_data"
    }
   ],
   "source": [
    "# ödülü göselleştir\n",
    "plt.figure()\n",
    "plt.plot(reward_list)\n",
    "plt.xlabel(\"Bölüm sayısı\")\n",
    "plt.ylabel(\"Ödül\")"
   ]
  },
  {
   "cell_type": "code",
   "execution_count": 13,
   "id": "8853b0c8",
   "metadata": {},
   "outputs": [
    {
     "data": {
      "text/plain": [
       "array([[3.31450002e-01, 6.26850676e-02, 2.33401675e-01, 3.27820890e-02],\n",
       "       [1.74891081e-02, 3.22964508e-02, 2.96041277e-02, 3.12902411e-01],\n",
       "       [1.42487212e-01, 1.92272121e-02, 2.78718506e-02, 2.10938638e-02],\n",
       "       [7.10229077e-03, 1.11856564e-03, 1.35351594e-03, 2.51242055e-02],\n",
       "       [2.80848918e-01, 3.35675956e-02, 2.92120517e-02, 1.96861011e-01],\n",
       "       [0.00000000e+00, 0.00000000e+00, 0.00000000e+00, 0.00000000e+00],\n",
       "       [1.53518881e-02, 7.38790717e-05, 1.15805774e-04, 1.36062162e-05],\n",
       "       [0.00000000e+00, 0.00000000e+00, 0.00000000e+00, 0.00000000e+00],\n",
       "       [6.25266725e-02, 1.24985825e-02, 1.63985718e-02, 5.11315166e-01],\n",
       "       [2.10742615e-02, 6.02250613e-01, 3.76294924e-02, 2.33430359e-03],\n",
       "       [5.89256353e-01, 5.90532983e-03, 4.15301031e-04, 2.13278609e-02],\n",
       "       [0.00000000e+00, 0.00000000e+00, 0.00000000e+00, 0.00000000e+00],\n",
       "       [0.00000000e+00, 0.00000000e+00, 0.00000000e+00, 0.00000000e+00],\n",
       "       [4.76994661e-01, 1.38147209e-01, 6.14484623e-01, 1.26931900e-01],\n",
       "       [1.59323736e-01, 6.39523559e-01, 6.40302186e-01, 9.30297195e-01],\n",
       "       [0.00000000e+00, 0.00000000e+00, 0.00000000e+00, 0.00000000e+00]])"
      ]
     },
     "execution_count": 13,
     "metadata": {},
     "output_type": "execute_result"
    }
   ],
   "source": [
    "q_table"
   ]
  },
  {
   "cell_type": "code",
   "execution_count": null,
   "id": "a7497ae6",
   "metadata": {},
   "outputs": [],
   "source": []
  }
 ],
 "metadata": {
  "kernelspec": {
   "display_name": "Python 3 (ipykernel)",
   "language": "python",
   "name": "python3"
  },
  "language_info": {
   "codemirror_mode": {
    "name": "ipython",
    "version": 3
   },
   "file_extension": ".py",
   "mimetype": "text/x-python",
   "name": "python",
   "nbconvert_exporter": "python",
   "pygments_lexer": "ipython3",
   "version": "3.9.7"
  }
 },
 "nbformat": 4,
 "nbformat_minor": 5
}
